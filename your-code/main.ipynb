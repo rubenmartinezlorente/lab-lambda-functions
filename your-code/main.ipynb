{
 "cells": [
  {
   "cell_type": "markdown",
   "metadata": {},
   "source": [
    "# Before your start:\n",
    "- Read the README.md file\n",
    "- Comment as much as you can and use the resources in the README.md file\n",
    "- Happy learning!"
   ]
  },
  {
   "cell_type": "markdown",
   "metadata": {},
   "source": [
    "# Challenge - Passing a Lambda Expression to a Function\n",
    "\n",
    "In the next excercise you will create a function that returns a lambda expression. Create a function called `modify_list`. The function takes two arguments, a list and a lambda expression. The function iterates through the list and applies the lambda expression to every element in the list."
   ]
  },
  {
   "cell_type": "code",
   "execution_count": 110,
   "metadata": {},
   "outputs": [
    {
     "name": "stdout",
     "output_type": "stream",
     "text": [
      "[0, 1, 2, 3, 4, 5, 6, 7, 8, 9]\n"
     ]
    },
    {
     "data": {
      "text/plain": [
       "[4, 5, 6, 7, 8, 9, 10, 11, 12, 13]"
      ]
     },
     "execution_count": 110,
     "metadata": {},
     "output_type": "execute_result"
    }
   ],
   "source": [
    "def modify_list(lst, lmbda):\n",
    "    \"\"\"\n",
    "    Input: list and lambda expression\n",
    "    Output: the transformed list\n",
    "    \"\"\"\n",
    "    \n",
    "    # your code here\n",
    "lst = list(range(10))\n",
    "\n",
    "trial_function=(lambda x: x+4) \n",
    "\n",
    "print(lst)\n",
    "#print(lmbda)\n",
    "[trial_function(x) for x in lst]\n",
    "    "
   ]
  },
  {
   "cell_type": "markdown",
   "metadata": {},
   "source": [
    "#### Now we will define a lambda expression that will transform the elements of the list. \n",
    "\n",
    "In the cell below, create a lambda expression that converts Celsius to Kelvin. Recall that 0°C + 273.15 = 273.15K"
   ]
  },
  {
   "cell_type": "code",
   "execution_count": 108,
   "metadata": {},
   "outputs": [
    {
     "name": "stdout",
     "output_type": "stream",
     "text": [
      "What temperature can transform from ºc to ºK?:6\n",
      "The temperature of 6ºc is 279.15ºK\n"
     ]
    }
   ],
   "source": [
    "# your code here\n",
    "T_c = int(input('What temperature can transform from ºc to ºK?:')) ##request the temp. in celsius\n",
    "\n",
    "changeT =(lambda T: (T+273.15)) (T_c)\n",
    "\n",
    "\n",
    "print(f'The temperature of {T_c}ºc is {changeT}ºK')"
   ]
  },
  {
   "cell_type": "markdown",
   "metadata": {},
   "source": [
    "Finally, convert the list of temperatures below from Celsius to Kelvin."
   ]
  },
  {
   "cell_type": "code",
   "execution_count": 109,
   "metadata": {},
   "outputs": [
    {
     "name": "stdout",
     "output_type": "stream",
     "text": [
      "<function <lambda> at 0x10ac66ea0>\n"
     ]
    },
    {
     "data": {
      "text/plain": [
       "[285.15, 296.15, 311.15, 218.14999999999998, 297.15]"
      ]
     },
     "execution_count": 109,
     "metadata": {},
     "output_type": "execute_result"
    }
   ],
   "source": [
    "# your code here\n",
    "temps = [12, 23, 38, -55, 24]\n",
    "\n",
    "changeT =(lambda T: (T+273.15)) #recall the lambda function but not write the element to compute, it goes sentence below\n",
    "\n",
    "[changeT(T) for T in temps]   #use a comprehension list.\n",
    "\n"
   ]
  },
  {
   "cell_type": "markdown",
   "metadata": {},
   "source": [
    "#### In this part, we will define a function that returns a lambda expression\n",
    "\n",
    "In the cell below, write a lambda expression that takes two numbers and returns 1 if one is divisible by the other and zero otherwise. Call the lambda expression `mod`."
   ]
  },
  {
   "cell_type": "markdown",
   "metadata": {},
   "source": [
    "#### Now create a function that returns mod. The function only takes one argument - the first number in the `mod` lambda function. \n",
    "\n",
    "Note: the lambda function above took two arguments, the lambda function in the return statement only takes one argument but also uses the argument passed to the function."
   ]
  },
  {
   "cell_type": "code",
   "execution_count": 154,
   "metadata": {},
   "outputs": [
    {
     "name": "stdout",
     "output_type": "stream",
     "text": [
      "1\n"
     ]
    }
   ],
   "source": [
    "def divisor(b):\n",
    "    \"\"\"\n",
    "    Input: a number\n",
    "    Output: a function that returns 1 if the number is \n",
    "    divisible by another number (to be passed later) and zero otherwise.\n",
    "    \"\"\"\n",
    "    \n",
    "    # your code here\n",
    "number1 = 10\n",
    "number2 = 5\n",
    "\n",
    "mod = (lambda number1,number2: print(1) if number1 % number2 == 0 else print(0))(number1, number2)\n",
    "\n"
   ]
  },
  {
   "cell_type": "markdown",
   "metadata": {},
   "source": [
    "Finally, pass the number 5 to `divisor`. Now the function will check whether a number is divisble by 5. Assign this function to `divisible5`"
   ]
  },
  {
   "cell_type": "code",
   "execution_count": 190,
   "metadata": {},
   "outputs": [
    {
     "name": "stdout",
     "output_type": "stream",
     "text": [
      "1\n"
     ]
    }
   ],
   "source": [
    "# your code here\n",
    "\n",
    "number = 10\n",
    "divisor = 5\n",
    "#write the lambda function calling just at one just number, it divides by divisor (5) and return '1' if it is divisible and '0' if isn't\n",
    "mod = lambda number1: print('1') if number % divisor == 0 else print(0)\n",
    "mod(number)"
   ]
  },
  {
   "cell_type": "markdown",
   "metadata": {},
   "source": [
    "Test your function with the following test cases:"
   ]
  },
  {
   "cell_type": "code",
   "execution_count": 191,
   "metadata": {},
   "outputs": [
    {
     "name": "stdout",
     "output_type": "stream",
     "text": [
      "1\n"
     ]
    }
   ],
   "source": [
    "#rename the 'mod' lambda funtion to 'divisible5' just for run these two cells straightly\n",
    "\n",
    "divisible5 = lambda number1: print('1') if number % divisor == 0 else print(0)\n",
    "\n",
    "divisible5(10)\n",
    "\n"
   ]
  },
  {
   "cell_type": "code",
   "execution_count": 192,
   "metadata": {},
   "outputs": [
    {
     "name": "stdout",
     "output_type": "stream",
     "text": [
      "1\n"
     ]
    }
   ],
   "source": [
    "divisible5(8)"
   ]
  },
  {
   "cell_type": "markdown",
   "metadata": {},
   "source": [
    "# Bonus Challenge - Using Lambda Expressions in List Comprehensions\n",
    "\n",
    "In the following challenge, we will combine two lists using a lambda expression in a list comprehension. \n",
    "\n",
    "To do this, we will need to introduce the `zip` function. The `zip` function returns an iterator of tuples."
   ]
  },
  {
   "cell_type": "code",
   "execution_count": 193,
   "metadata": {},
   "outputs": [
    {
     "data": {
      "text/plain": [
       "[(1,), (2,), (3,), (4,), (5,)]"
      ]
     },
     "execution_count": 193,
     "metadata": {},
     "output_type": "execute_result"
    }
   ],
   "source": [
    "# Here is an example of passing one list to the zip function. \n",
    "# Since the zip function returns an iterator, we need to evaluate the iterator by using a list comprehension.\n",
    "\n",
    "l = [1,2,3,4,5]\n",
    "[x for x in zip(l)]\n"
   ]
  },
  {
   "cell_type": "markdown",
   "metadata": {},
   "source": [
    "Using the `zip` function, let's iterate through two lists and add the elements by position."
   ]
  },
  {
   "cell_type": "code",
   "execution_count": 197,
   "metadata": {},
   "outputs": [
    {
     "name": "stdout",
     "output_type": "stream",
     "text": [
      "[('Green', 'eggs'), ('cheese', 'cheese'), ('English', 'cucumber'), ('tomato', 'tomato')]\n"
     ]
    }
   ],
   "source": [
    "list1 = ['Green', 'cheese', 'English', 'tomato']\n",
    "list2 = ['eggs', 'cheese', 'cucumber', 'tomato']\n",
    "\n",
    "# your code here\n",
    "\n",
    "superlist = [i for i in zip(list1,list2)]\n",
    "print(superlist)\n"
   ]
  },
  {
   "cell_type": "markdown",
   "metadata": {},
   "source": [
    "# Bonus Challenge - Using Lambda Expressions as Arguments\n",
    "\n",
    "#### In this challenge, we will zip together two lists and sort by the resulting tuple.\n",
    "\n",
    "In the cell below, take the two lists provided, zip them together and sort by the first letter of the second element of each tuple. Do this using a lambda function."
   ]
  },
  {
   "cell_type": "code",
   "execution_count": 208,
   "metadata": {},
   "outputs": [
    {
     "name": "stdout",
     "output_type": "stream",
     "text": [
      "no order list:\n",
      "[('Engineering', 'Lab'), ('Computer Science', 'Homework'), ('Political Science', 'Essay'), ('Mathematics', 'Module')]\n",
      "\n",
      "\n",
      "order list::\n",
      "[('Political Science', 'Essay'), ('Computer Science', 'Homework'), ('Engineering', 'Lab'), ('Mathematics', 'Module')]\n"
     ]
    }
   ],
   "source": [
    "list1 = ['Engineering', 'Computer Science', 'Political Science', 'Mathematics']\n",
    "list2 = ['Lab', 'Homework', 'Essay', 'Module']\n",
    "\n",
    "# your code here\n",
    "\n",
    "extralist = [el for el in zip(list1,list2)]\n",
    "print(f'no order list:\\n{extralist}\\n\\n')\n",
    "extralist.sort(key = lambda x: x[1])\n",
    "print(f'order list::\\n{extralist}')\n"
   ]
  },
  {
   "cell_type": "markdown",
   "metadata": {},
   "source": [
    "# Bonus Challenge - Sort a Dictionary by Values\n",
    "\n",
    "Given the dictionary below, sort it by values rather than by keys. Use a lambda function to specify the values as a sorting key."
   ]
  },
  {
   "cell_type": "code",
   "execution_count": null,
   "metadata": {},
   "outputs": [],
   "source": [
    "d = {'Honda': 1997, 'Toyota': 1995, 'Audi': 2001, 'BMW': 2005}\n",
    "\n",
    "# your code here"
   ]
  }
 ],
 "metadata": {
  "kernelspec": {
   "display_name": "Python 3",
   "language": "python",
   "name": "python3"
  },
  "language_info": {
   "codemirror_mode": {
    "name": "ipython",
    "version": 3
   },
   "file_extension": ".py",
   "mimetype": "text/x-python",
   "name": "python",
   "nbconvert_exporter": "python",
   "pygments_lexer": "ipython3",
   "version": "3.7.3"
  }
 },
 "nbformat": 4,
 "nbformat_minor": 2
}
